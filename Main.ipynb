{
 "cells": [
  {
   "cell_type": "code",
   "execution_count": 3,
   "id": "48702a6f-8af0-4863-bc95-19e5fee2ae22",
   "metadata": {},
   "outputs": [],
   "source": [
    "import statistics\n",
    "import numpy as np\n",
    "import pandas as pd"
   ]
  },
  {
   "cell_type": "code",
   "execution_count": 6,
   "id": "0c44ff72-afb0-4aac-a1f4-c0e17ed59667",
   "metadata": {},
   "outputs": [],
   "source": [
    "df = pd.read_csv(\"budget_data.csv\")"
   ]
  },
  {
   "cell_type": "code",
   "execution_count": 11,
   "id": "4a13fba7-81b5-4c5a-8259-acbedf6168cd",
   "metadata": {},
   "outputs": [],
   "source": [
    "Months = df[\"Date\"].count()"
   ]
  },
  {
   "cell_type": "code",
   "execution_count": 12,
   "id": "2d8ce652-92ee-43bf-9351-81a692591482",
   "metadata": {},
   "outputs": [],
   "source": [
    "profits = df[\"Profit/Losses\"].sum()"
   ]
  },
  {
   "cell_type": "code",
   "execution_count": 13,
   "id": "1b032c34-5685-48e1-a7e4-5d7b3975ce01",
   "metadata": {},
   "outputs": [],
   "source": [
    "increase_profit = df[\"Profit/Losses\"].max()"
   ]
  },
  {
   "cell_type": "code",
   "execution_count": 15,
   "id": "b8f9fe66-9774-4a27-ac4f-d3c74df33dd9",
   "metadata": {},
   "outputs": [],
   "source": [
    "profit_losses_list = list(df[\"Profit/Losses\"])\n",
    "date_profit_losses_list = df[\"Date\"]"
   ]
  },
  {
   "cell_type": "code",
   "execution_count": 16,
   "id": "35665fea-2b92-4737-a84c-ad6f510ad731",
   "metadata": {},
   "outputs": [],
   "source": [
    "change_list = []"
   ]
  },
  {
   "cell_type": "code",
   "execution_count": 17,
   "id": "776c9cb8-5958-495d-bc05-2ab4db736646",
   "metadata": {},
   "outputs": [],
   "source": [
    "counter = 0"
   ]
  },
  {
   "cell_type": "code",
   "execution_count": 35,
   "id": "abb6e66c-3657-463a-8d04-240a949c2999",
   "metadata": {},
   "outputs": [],
   "source": [
    "numDB = np.array(profit_losses_list)\n",
    "dateNP = np.array(date_profit_losses_list)\n",
    "date = \"\""
   ]
  },
  {
   "cell_type": "code",
   "execution_count": 38,
   "id": "2b621e49-50ab-4b30-a22e-2e59df5ab9da",
   "metadata": {
    "tags": []
   },
   "outputs": [],
   "source": [
    "for i in range(len(df)-1):\n",
    "    current = profit_losses_list[i]\n",
    "    current_down = profit_losses_list[i+1]\n",
    "    change_list.append(current_down-current)\n",
    "    counter = sum(df[\"Profit/Losses\"])\n",
    "    minimum_change_date = date_profit_losses_list[change_list.index(min(change_list))]\n",
    "    minimum_change = min(change_list)\n",
    "    maximum_change_date = date_profit_losses_list[change_list.index(max(change_list))]\n",
    "    maximum_change = max(change_list)\n",
    "    average_change = round(np.mean(change_list),2)"
   ]
  },
  {
   "cell_type": "code",
   "execution_count": 31,
   "id": "1b53fb2a-f366-4df8-977f-2c2b8728af9b",
   "metadata": {},
   "outputs": [
    {
     "name": "stdout",
     "output_type": "stream",
     "text": [
      "\n",
      "Financial Analysis\n",
      "----------------------------------------------\n",
      "\n",
      "Months: 86\n",
      "Total Profit:  $38382578\n",
      "Average Change:  $-1618.71\n",
      "Greatest Increase in Profits: Jan-2012 ($1926159)\n",
      "Greatsest Decrease in Profits:  Aug-2013 ($-2196167)\n"
     ]
    }
   ],
   "source": [
    "print(f\"\\nFinancial Analysis\\n----------------------------------------------\\n\")\n",
    "print(f\"Months: {Months}\")\n",
    "print(f\"Total Profit:  ${profits}\")\n",
    "print(f\"Average Change:  ${average_change}\")\n",
    "print(f\"Greatest Increase in Profits: {maximum_change_date} (${maximum_change})\")\n",
    "print(f\"Greatsest Decrease in Profits:  {minimum_change_date} (${minimum_change})\")"
   ]
  },
  {
   "cell_type": "code",
   "execution_count": 76,
   "id": "e9b5ac2e-7f28-494a-a5dc-8f36c6199fad",
   "metadata": {},
   "outputs": [],
   "source": [
    "file_1 = open(\"results.txt\", \"w\")"
   ]
  },
  {
   "cell_type": "code",
   "execution_count": 77,
   "id": "c5b8c8fd-3e0c-4923-9850-ab2997354bbb",
   "metadata": {},
   "outputs": [
    {
     "data": {
      "text/plain": [
       "52"
      ]
     },
     "execution_count": 77,
     "metadata": {},
     "output_type": "execute_result"
    }
   ],
   "source": [
    "file_1.write(f\"\\nFinancial Analysis\\n----------------------------------------------\\n\")\n",
    "file_1.write(f\"Months: {Months}\")\n",
    "file_1.write(f\"Total Profit:  ${profits}\")\n",
    "file_1.write(f\"Average Change:  ${average_change}\")\n",
    "file_1.write(f\"Greatest Increase in Profits: {maximum_change_date} (${maximum_change})\")\n",
    "file_1.write(f\"Greatsest Decrease in Profits:  {minimum_change_date} (${minimum_change})\")"
   ]
  },
  {
   "cell_type": "code",
   "execution_count": null,
   "id": "cc601b27-16de-4656-b40f-2b45105a6c50",
   "metadata": {},
   "outputs": [],
   "source": []
  }
 ],
 "metadata": {
  "kernelspec": {
   "display_name": "Python 3 (ipykernel)",
   "language": "python",
   "name": "python3"
  },
  "language_info": {
   "codemirror_mode": {
    "name": "ipython",
    "version": 3
   },
   "file_extension": ".py",
   "mimetype": "text/x-python",
   "name": "python",
   "nbconvert_exporter": "python",
   "pygments_lexer": "ipython3",
   "version": "3.9.7"
  }
 },
 "nbformat": 4,
 "nbformat_minor": 5
}
